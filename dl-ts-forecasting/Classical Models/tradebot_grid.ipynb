{
 "cells": [
  {
   "cell_type": "code",
   "execution_count": 22,
   "metadata": {},
   "outputs": [
    {
     "ename": "UnboundLocalError",
     "evalue": "local variable 'history_offset' referenced before assignment",
     "output_type": "error",
     "traceback": [
      "\u001b[0;31m---------------------------------------------------------------------------\u001b[0m",
      "\u001b[0;31mUnboundLocalError\u001b[0m                         Traceback (most recent call last)",
      "\u001b[0;32m<ipython-input-22-212ea5097031>\u001b[0m in \u001b[0;36m<module>\u001b[0;34m\u001b[0m\n\u001b[1;32m    141\u001b[0m     \u001b[0mparams\u001b[0m \u001b[0;34m=\u001b[0m \u001b[0mrsi_params\u001b[0m\u001b[0;34m,\u001b[0m \u001b[0mhourly_params\u001b[0m\u001b[0;34m,\u001b[0m \u001b[0mdaily_params\u001b[0m\u001b[0;34m,\u001b[0m \u001b[0msymbol_params\u001b[0m\u001b[0;34m\u001b[0m\u001b[0;34m\u001b[0m\u001b[0m\n\u001b[1;32m    142\u001b[0m     \u001b[0mmodels\u001b[0m \u001b[0;34m=\u001b[0m \u001b[0mconfig\u001b[0m\u001b[0;34m(\u001b[0m\u001b[0mparams\u001b[0m\u001b[0;34m)\u001b[0m\u001b[0;34m\u001b[0m\u001b[0;34m\u001b[0m\u001b[0m\n\u001b[0;32m--> 143\u001b[0;31m     \u001b[0mscores\u001b[0m \u001b[0;34m=\u001b[0m \u001b[0mgridSearch\u001b[0m\u001b[0;34m(\u001b[0m\u001b[0mdata\u001b[0m\u001b[0;34m,\u001b[0m \u001b[0mmodels\u001b[0m\u001b[0;34m,\u001b[0m \u001b[0mstarting_dollars\u001b[0m\u001b[0;34m)\u001b[0m\u001b[0;34m\u001b[0m\u001b[0;34m\u001b[0m\u001b[0m\n\u001b[0m\u001b[1;32m    144\u001b[0m \u001b[0;34m\u001b[0m\u001b[0m\n\u001b[1;32m    145\u001b[0m     \u001b[0;32mfor\u001b[0m \u001b[0mcfg\u001b[0m\u001b[0;34m,\u001b[0m \u001b[0merror\u001b[0m \u001b[0;32min\u001b[0m \u001b[0mscores\u001b[0m\u001b[0;34m[\u001b[0m\u001b[0;34m:\u001b[0m\u001b[0;36m3\u001b[0m\u001b[0;34m]\u001b[0m\u001b[0;34m:\u001b[0m\u001b[0;34m\u001b[0m\u001b[0;34m\u001b[0m\u001b[0m\n",
      "\u001b[0;32m<ipython-input-22-212ea5097031>\u001b[0m in \u001b[0;36mgridSearch\u001b[0;34m(history, models, initial_balance)\u001b[0m\n\u001b[1;32m     63\u001b[0m \u001b[0;34m\u001b[0m\u001b[0m\n\u001b[1;32m     64\u001b[0m \u001b[0;32mdef\u001b[0m \u001b[0mgridSearch\u001b[0m \u001b[0;34m(\u001b[0m\u001b[0mhistory\u001b[0m\u001b[0;34m,\u001b[0m \u001b[0mmodels\u001b[0m\u001b[0;34m,\u001b[0m \u001b[0minitial_balance\u001b[0m\u001b[0;34m)\u001b[0m\u001b[0;34m:\u001b[0m\u001b[0;34m\u001b[0m\u001b[0;34m\u001b[0m\u001b[0m\n\u001b[0;32m---> 65\u001b[0;31m     \u001b[0mscores\u001b[0m \u001b[0;34m=\u001b[0m \u001b[0;34m[\u001b[0m\u001b[0mscoreModel\u001b[0m\u001b[0;34m(\u001b[0m\u001b[0mhistory\u001b[0m\u001b[0;34m,\u001b[0m \u001b[0mmodel\u001b[0m\u001b[0;34m,\u001b[0m \u001b[0minitial_balance\u001b[0m\u001b[0;34m)\u001b[0m \u001b[0;32mfor\u001b[0m \u001b[0mmodel\u001b[0m \u001b[0;32min\u001b[0m \u001b[0mmodels\u001b[0m\u001b[0;34m]\u001b[0m\u001b[0;34m\u001b[0m\u001b[0;34m\u001b[0m\u001b[0m\n\u001b[0m\u001b[1;32m     66\u001b[0m     \u001b[0mscores\u001b[0m\u001b[0;34m.\u001b[0m\u001b[0msort\u001b[0m\u001b[0;34m(\u001b[0m\u001b[0mkey\u001b[0m\u001b[0;34m=\u001b[0m\u001b[0;32mlambda\u001b[0m \u001b[0mtup\u001b[0m\u001b[0;34m:\u001b[0m \u001b[0mtup\u001b[0m\u001b[0;34m[\u001b[0m\u001b[0;36m1\u001b[0m\u001b[0;34m]\u001b[0m\u001b[0;34m)\u001b[0m\u001b[0;34m\u001b[0m\u001b[0;34m\u001b[0m\u001b[0m\n\u001b[1;32m     67\u001b[0m     \u001b[0;32mreturn\u001b[0m \u001b[0mscores\u001b[0m\u001b[0;34m\u001b[0m\u001b[0;34m\u001b[0m\u001b[0m\n",
      "\u001b[0;32m<ipython-input-22-212ea5097031>\u001b[0m in \u001b[0;36m<listcomp>\u001b[0;34m(.0)\u001b[0m\n\u001b[1;32m     63\u001b[0m \u001b[0;34m\u001b[0m\u001b[0m\n\u001b[1;32m     64\u001b[0m \u001b[0;32mdef\u001b[0m \u001b[0mgridSearch\u001b[0m \u001b[0;34m(\u001b[0m\u001b[0mhistory\u001b[0m\u001b[0;34m,\u001b[0m \u001b[0mmodels\u001b[0m\u001b[0;34m,\u001b[0m \u001b[0minitial_balance\u001b[0m\u001b[0;34m)\u001b[0m\u001b[0;34m:\u001b[0m\u001b[0;34m\u001b[0m\u001b[0;34m\u001b[0m\u001b[0m\n\u001b[0;32m---> 65\u001b[0;31m     \u001b[0mscores\u001b[0m \u001b[0;34m=\u001b[0m \u001b[0;34m[\u001b[0m\u001b[0mscoreModel\u001b[0m\u001b[0;34m(\u001b[0m\u001b[0mhistory\u001b[0m\u001b[0;34m,\u001b[0m \u001b[0mmodel\u001b[0m\u001b[0;34m,\u001b[0m \u001b[0minitial_balance\u001b[0m\u001b[0;34m)\u001b[0m \u001b[0;32mfor\u001b[0m \u001b[0mmodel\u001b[0m \u001b[0;32min\u001b[0m \u001b[0mmodels\u001b[0m\u001b[0;34m]\u001b[0m\u001b[0;34m\u001b[0m\u001b[0;34m\u001b[0m\u001b[0m\n\u001b[0m\u001b[1;32m     66\u001b[0m     \u001b[0mscores\u001b[0m\u001b[0;34m.\u001b[0m\u001b[0msort\u001b[0m\u001b[0;34m(\u001b[0m\u001b[0mkey\u001b[0m\u001b[0;34m=\u001b[0m\u001b[0;32mlambda\u001b[0m \u001b[0mtup\u001b[0m\u001b[0;34m:\u001b[0m \u001b[0mtup\u001b[0m\u001b[0;34m[\u001b[0m\u001b[0;36m1\u001b[0m\u001b[0;34m]\u001b[0m\u001b[0;34m)\u001b[0m\u001b[0;34m\u001b[0m\u001b[0;34m\u001b[0m\u001b[0m\n\u001b[1;32m     67\u001b[0m     \u001b[0;32mreturn\u001b[0m \u001b[0mscores\u001b[0m\u001b[0;34m\u001b[0m\u001b[0;34m\u001b[0m\u001b[0m\n",
      "\u001b[0;32m<ipython-input-22-212ea5097031>\u001b[0m in \u001b[0;36mscoreModel\u001b[0;34m(history, model, initial_balance)\u001b[0m\n\u001b[1;32m     56\u001b[0m \u001b[0;34m\u001b[0m\u001b[0m\n\u001b[1;32m     57\u001b[0m \u001b[0;32mdef\u001b[0m \u001b[0mscoreModel\u001b[0m\u001b[0;34m(\u001b[0m\u001b[0mhistory\u001b[0m\u001b[0;34m,\u001b[0m \u001b[0mmodel\u001b[0m\u001b[0;34m,\u001b[0m \u001b[0minitial_balance\u001b[0m\u001b[0;34m)\u001b[0m\u001b[0;34m:\u001b[0m\u001b[0;34m\u001b[0m\u001b[0;34m\u001b[0m\u001b[0m\n\u001b[0;32m---> 58\u001b[0;31m     \u001b[0mscore\u001b[0m \u001b[0;34m=\u001b[0m \u001b[0mbackTest\u001b[0m\u001b[0;34m(\u001b[0m\u001b[0mhistory\u001b[0m\u001b[0;34m,\u001b[0m \u001b[0mmodel\u001b[0m\u001b[0;34m,\u001b[0m \u001b[0minitial_balance\u001b[0m\u001b[0;34m)\u001b[0m\u001b[0;34m\u001b[0m\u001b[0;34m\u001b[0m\u001b[0m\n\u001b[0m\u001b[1;32m     59\u001b[0m     \u001b[0mhold\u001b[0m \u001b[0;34m=\u001b[0m \u001b[0mholdValue\u001b[0m\u001b[0;34m(\u001b[0m\u001b[0mhistory\u001b[0m\u001b[0;34m,\u001b[0m \u001b[0minitial_balance\u001b[0m\u001b[0;34m)\u001b[0m\u001b[0;34m\u001b[0m\u001b[0;34m\u001b[0m\u001b[0m\n\u001b[1;32m     60\u001b[0m     \u001b[0mmodel_score\u001b[0m \u001b[0;34m=\u001b[0m \u001b[0;34m(\u001b[0m\u001b[0mscore\u001b[0m \u001b[0;34m-\u001b[0m \u001b[0mhold\u001b[0m\u001b[0;34m)\u001b[0m \u001b[0;34m/\u001b[0m \u001b[0mhold\u001b[0m\u001b[0;34m\u001b[0m\u001b[0;34m\u001b[0m\u001b[0m\n",
      "\u001b[0;32m<ipython-input-22-212ea5097031>\u001b[0m in \u001b[0;36mbackTest\u001b[0;34m(history, model, initial_balance)\u001b[0m\n\u001b[1;32m     13\u001b[0m     \u001b[0m_\u001b[0m\u001b[0;34m,\u001b[0m \u001b[0m_\u001b[0m\u001b[0;34m,\u001b[0m \u001b[0minterval\u001b[0m\u001b[0;34m,\u001b[0m \u001b[0m_\u001b[0m \u001b[0;34m=\u001b[0m \u001b[0mmodel\u001b[0m\u001b[0;34m\u001b[0m\u001b[0;34m\u001b[0m\u001b[0m\n\u001b[1;32m     14\u001b[0m \u001b[0;34m\u001b[0m\u001b[0m\n\u001b[0;32m---> 15\u001b[0;31m     \u001b[0mprint\u001b[0m\u001b[0;34m(\u001b[0m\u001b[0mrange\u001b[0m\u001b[0;34m(\u001b[0m\u001b[0mlen\u001b[0m\u001b[0;34m(\u001b[0m\u001b[0mhistory_offset\u001b[0m\u001b[0;34m)\u001b[0m\u001b[0;34m)\u001b[0m\u001b[0;34m)\u001b[0m\u001b[0;34m\u001b[0m\u001b[0;34m\u001b[0m\u001b[0m\n\u001b[0m\u001b[1;32m     16\u001b[0m \u001b[0;34m\u001b[0m\u001b[0m\n\u001b[1;32m     17\u001b[0m     \u001b[0mhistory_offset\u001b[0m \u001b[0;34m=\u001b[0m \u001b[0mhistory\u001b[0m\u001b[0;34m[\u001b[0m\u001b[0minterval\u001b[0m\u001b[0;34m:\u001b[0m\u001b[0;34m]\u001b[0m\u001b[0;34m\u001b[0m\u001b[0;34m\u001b[0m\u001b[0m\n",
      "\u001b[0;31mUnboundLocalError\u001b[0m: local variable 'history_offset' referenced before assignment"
     ]
    }
   ],
   "source": [
    "from binance.client import Client\n",
    "import os\n",
    "\n",
    "binance_api_key = os.environ.get(\"BINANCE_KEY\")\n",
    "binance_api_secret = os.environ.get(\"BINANCE_SECRET\")\n",
    "client = Client(binance_api_key, binance_api_secret)\n",
    "\n",
    "def backTest(history, model, initial_balance):\n",
    "    trade_state = False\n",
    "    balance_usd = initial_balance\n",
    "    balance_crypto = 0\n",
    "    \n",
    "    _, _, interval, _ = model\n",
    "    \n",
    "    print(range(len(history_offset)))\n",
    "    \n",
    "    history_offset = history[interval:]\n",
    "    \n",
    "    for i in range(len(history_offset)):\n",
    "        temp_history = history[i:interval+i]\n",
    "        temp_rsi = rsi(temp_history, interval)\n",
    "        if trade_state:\n",
    "            if temp_rsi <= 40:\n",
    "                balance_usd = applyTax(balance_crypto * history[interval+i])\n",
    "                trade_state = False\n",
    "        else:\n",
    "            if temp_rsi >= 60:\n",
    "                balance_crypto = applyTax(balance_usd / history[interval+i])\n",
    "                trade_state = True\n",
    "    if trade_state:\n",
    "        balance_usd = (balance_crypto * history[interval+i]) * 0.999\n",
    "    return balance_usd\n",
    "\n",
    "def holdValue(history, initial_balance):\n",
    "    hold_value = (initial_balance / history[0]) * history[-1]\n",
    "    return hold_value\n",
    "    \n",
    "def rsi (history, interval):\n",
    "    gain = []\n",
    "    loss = []\n",
    "    for i in range(len(history)):\n",
    "        if  i >= interval:\n",
    "            if history[i] - history[i-1] > 0:\n",
    "                gain.append((history[i] - history[i-1]) / history[i-1])\n",
    "            else: \n",
    "                loss.append((history[i] - history[i-1]) / history[i-1])\n",
    "    avg_gain = sum(gain) / interval\n",
    "    avg_loss = abs(sum(loss) / interval)\n",
    "    return avg_gain/avg_loss \n",
    "\n",
    "def getHistory (interval, start_date):\n",
    "    for kline in client.get_historical_klines_generator(\"ETHUSDT\", \n",
    "                                                        Client.KLINE_INTERVAL_1HOUR, \n",
    "                                                        \"{}\".format(start_date)):\n",
    "        history.append(float(kline[4]))\n",
    "\n",
    "def scoreModel(history, model, initial_balance):\n",
    "    score = backTest(history, model, initial_balance)\n",
    "    hold = holdValue(history, initial_balance)\n",
    "    model_score = (score - hold) / hold\n",
    "    return model_score\n",
    "    \n",
    "\n",
    "def gridSearch (history, models, initial_balance):\n",
    "    scores = [scoreModel(history, model, initial_balance) for model in models]\n",
    "    scores.sort(key=lambda tup: tup[1])\n",
    "    return scores\n",
    "\n",
    "#def backTest\n",
    "#\tkey = str(cfg)\n",
    "#\t# show all warnings and fail on exception if debugging\n",
    "#\tif debug:\n",
    "#\t\tresult = walk_forward_validation(data, n_test, cfg)\n",
    "#\telse:\n",
    "#\t\t# one failure during model validation suggests an unstable config\n",
    "#\t\ttry:\n",
    "#\t\t\t# never show warnings when grid searching, too noisy\n",
    "#\t\t\twith catch_warnings():\n",
    "#\t\t\t\tfilterwarnings(\"ignore\")\n",
    "#\t\t\t\tresult = walk_forward_validation(data, n_test, cfg)\n",
    "#\t\texcept:\n",
    "#\t\t\terror = None\n",
    "#\t# check for an interesting result\n",
    "#\tif result is not None:\n",
    "#\t\tprint(' > Model[%s] %.3f' % (key, result))\n",
    "#\treturn (key, result)\n",
    "    \n",
    "def getKlines (models):\n",
    "    symbol, interval, date = models \n",
    "    scores = [score_model(data, n_test, cfg) for cfg in cfg_list]\n",
    "    history = []\n",
    "    hours = (hours * 2) + 1\n",
    "    for kline in client.get_historical_klines_generator(symbol, \n",
    "                                                        interval, \n",
    "                                                        \"{} hours ago UTC\".format(hours)):\n",
    "        history.append(float(kline[4]))\n",
    "        \n",
    "    del history[-1]\n",
    "    return history\n",
    "    \n",
    "def config(params):\n",
    "    rsi_params, hourly_params, daily_params, symbol_params = params\n",
    "    models = list()\n",
    "    for s in symbol_params:\n",
    "        for r in rsi_params:\n",
    "            for h in hourly_params[1]:\n",
    "                    cfg = [s, r, h, hourly_params[0]]\n",
    "                    models.append(cfg)\n",
    "            for d in daily_params:\n",
    "                    cfg = [s, r, d, daily_params[0]]\n",
    "                    models.append(cfg)\n",
    "    return models\n",
    "\n",
    "def applyTax(amount):\n",
    "    after_tax = amount * 0.999\n",
    "    return after_tax\n",
    "\n",
    "def getDateParams (date_params):\n",
    "    hourly = []\n",
    "    daily = []\n",
    "    for d in date_params:\n",
    "        hourly.append(\"{} hours ago UTC\".format(d))\n",
    "        daily.append(\"{} days ago UTC\".format(d))\n",
    "    hourly_params = [Client.KLINE_INTERVAL_1HOUR, hourly]\n",
    "    daily_params = [Client.KLINE_INTERVAL_1DAY, daily]\n",
    "    return hourly_params, daily_params\n",
    "\n",
    "if __name__ == '__main__':\n",
    "    # define dataset\n",
    "    data = [10.0, 20.0, 30.0, 40.0, 50.0, 60.0, 70.0, 80.0, 90.0, 100.0]\n",
    "    \n",
    "    start_date = \"05/01/2020\"\n",
    "    \n",
    "    # params\n",
    "    rsi_params = [20,21,22,23,24,25,26,27,28,29,30,31,32,33,34,35,36,37,38,39,40,41,42,43,44,45]\n",
    "    date_params = [100,200,300,400,500,600,700,800,900,1000]\n",
    "    symbol_params = ['ETHUSDT']\n",
    "    starting_dollars = 100\n",
    "    hourly_params, daily_params = getDateParams(date_params)\n",
    "    \n",
    "    params = rsi_params, hourly_params, daily_params, symbol_params\n",
    "    models = config(params)\n",
    "    scores = gridSearch(data, models, starting_dollars)\n",
    "        \n",
    "    for cfg, error in scores[:3]:\n",
    "        print(cfg, error)"
   ]
  },
  {
   "cell_type": "code",
   "execution_count": 2,
   "metadata": {},
   "outputs": [
    {
     "data": {
      "text/plain": [
       "datetime.datetime(2020, 1, 6, 0, 0)"
      ]
     },
     "execution_count": 2,
     "metadata": {},
     "output_type": "execute_result"
    }
   ],
   "source": [
    "import dateparser\n",
    "\n",
    "dateparser.parse(\"05/01/2020\")"
   ]
  },
  {
   "cell_type": "code",
   "execution_count": 4,
   "metadata": {},
   "outputs": [
    {
     "ename": "SyntaxError",
     "evalue": "invalid syntax (<ipython-input-4-343e1e86dc6f>, line 1)",
     "output_type": "error",
     "traceback": [
      "\u001b[0;36m  File \u001b[0;32m\"<ipython-input-4-343e1e86dc6f>\"\u001b[0;36m, line \u001b[0;32m1\u001b[0m\n\u001b[0;31m    x = [3 to 6]\u001b[0m\n\u001b[0m            ^\u001b[0m\n\u001b[0;31mSyntaxError\u001b[0m\u001b[0;31m:\u001b[0m invalid syntax\n"
     ]
    }
   ],
   "source": []
  },
  {
   "cell_type": "code",
   "execution_count": 5,
   "metadata": {},
   "outputs": [
    {
     "name": "stdout",
     "output_type": "stream",
     "text": [
      "3\n",
      "4\n"
     ]
    }
   ],
   "source": [
    "x = [1,2,3,4]\n",
    "y = 2\n",
    "for i in x[y:]:\n",
    "    print(i)"
   ]
  },
  {
   "cell_type": "code",
   "execution_count": null,
   "metadata": {},
   "outputs": [],
   "source": []
  }
 ],
 "metadata": {
  "kernelspec": {
   "display_name": "Python 3",
   "language": "python",
   "name": "python3"
  },
  "language_info": {
   "codemirror_mode": {
    "name": "ipython",
    "version": 3
   },
   "file_extension": ".py",
   "mimetype": "text/x-python",
   "name": "python",
   "nbconvert_exporter": "python",
   "pygments_lexer": "ipython3",
   "version": "3.7.7"
  }
 },
 "nbformat": 4,
 "nbformat_minor": 4
}
